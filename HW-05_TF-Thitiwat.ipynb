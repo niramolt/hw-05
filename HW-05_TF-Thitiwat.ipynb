{
 "cells": [
  {
   "cell_type": "markdown",
   "metadata": {},
   "source": [
    "### <p style=\"text-align: right;\"> &#9989; Thitiwat Niramol</p>"
   ]
  },
  {
   "cell_type": "markdown",
   "metadata": {},
   "source": [
    "# CMSE Homework 05\n",
    "\n",
    "## Using Tensorflow/Keras for classification\n",
    "\n",
    "\n",
    "### Assignment instructions\n",
    "\n",
    "Work through the following assignment, making sure to follow all of the directions and answer all of the questions.\n",
    "\n",
    "There are 25 points possible on this assignment. Point values for each part are included in the section headers.\n",
    "\n",
    "This assignment is due roughly two weeks from now at 11:59 pm on **Friday Dec. 4th**. It should be uploaded into the \"Homework Assignments\" submission folder for Homework #5 in your D2L webpage. Submission instructions can be found at the end of the notebook.\n",
    "\n",
    "**Hint**: It is possible you are asked to do something you are not familiar with. That's why you have internet access. Do some smart searches and see what you can find! \n",
    "\n",
    "### Goals for this homework assignment\n",
    "\n",
    "The goal for this assignment is for you to learn about neural network implemented by __Tensorflow__ and __Keras__ to do some basic classification tasks. Unless you already have experience with Tensorflow or Keras or similar libraries, you will not understand everything about this right away. You probably haven't even installed Tensorflow yet. Don't worry, that is perfectly fine. We will walk through one example in detail. So don't worry if some steps seem arbitrary or look like magic to you! We've got to start somewhere.\n",
    "\n",
    "[Tensorflow](https://www.tensorflow.org/) is a free and open-source software library for machine learning. It is one of the most popular software package for training and inference of deep neural networks. [Keras](https://keras.io/) is the high-level API of TensorFlow 2.0. \n",
    "\n",
    "\n",
    "To get started, you need to set up the required software. You can follow the detailed instruction from the [installation guide of Tensorflow](https://www.tensorflow.org/install) which also includes Keras. In most cases, you can simply type\n",
    "\n",
    "`pip install --upgrade tensorflow`\n",
    "\n",
    "Now you are ready for action!\n",
    "\n",
    "__Note__ Following the installation guide, you should have installed Tensorflow V2.3.1, and   Numpy should be downgraded to V1.18.5. If you have trouble with installation or you run into issues with dead kernels, please check the versions of the packages installed and asked for help during help hours!\n",
    "\n",
    "Below is the import for this assignement."
   ]
  },
  {
   "cell_type": "markdown",
   "metadata": {},
   "source": [
    "\"\"\"UnsatisfiableError: The following specifications were found\n",
    "to be incompatible with the existing python installation in your environment:\n",
    "\n",
    "Specifications:\n",
    "\n",
    "  - tensorflow -> python[version='3.5.*|3.6.*|3.7.*']\n",
    "\n",
    "Your python: python=3.8\n",
    "\n",
    "If python is on the left-most side of the chain, that's the version you've asked for.\n",
    "When python appears to the right, that indicates that the thing on the left is somehow\n",
    "not available for the python version you are constrained to. Note that conda will not\n",
    "change your python version to a different minor version unless you explicitly specify\n",
    "that.\n",
    "\n",
    "The following specifications were found to be incompatible with your system:\n",
    "\n",
    "  - feature:/win-64::__cuda==11.1=0\n",
    "  - feature:|@/win-64::__cuda==11.1=0\n",
    "\n",
    "Your installed version is: 11.1\"\"\""
   ]
  },
  {
   "cell_type": "markdown",
   "metadata": {},
   "source": [
    "(base) C:\\Windows\\system32>pip install tensorflow==1.15\n",
    "ERROR: Could not find a version that satisfies the requirement tensorflow==1.15 (from versions: 2.2.0rc1, 2.2.0rc2, 2.2.0rc3, 2.2.0rc4, 2.2.0, 2.2.1, 2.3.0rc0, 2.3.0rc1, 2.3.0rc2, 2.3.0, 2.3.1, 2.4.0rc0, 2.4.0rc1, 2.4.0rc2, 2.4.0rc3, 2.4.0rc4)\n",
    "ERROR: No matching distribution found for tensorflow==1.15\n",
    "\n",
    "(base) C:\\Windows\\system32>pip install tensorflow-gpu==1.15\n",
    "ERROR: Could not find a version that satisfies the requirement tensorflow-gpu==1.15 (from versions: 2.2.0rc1, 2.2.0rc2, 2.2.0rc3, 2.2.0rc4, 2.2.0, 2.2.1, 2.3.0rc0, 2.3.0rc1, 2.3.0rc2, 2.3.0, 2.3.1, 2.4.0rc0, 2.4.0rc1, 2.4.0rc2, 2.4.0rc3, 2.4.0rc4)\n",
    "ERROR: No matching distribution found for tensorflow-gpu==1.15\n",
    "\n",
    "(base) C:\\Windows\\system32>"
   ]
  },
  {
   "cell_type": "markdown",
   "metadata": {},
   "source": [
    "\"\"\"I tried \n",
    "\n",
    "https://stackoverflow.com/questions/49689893/tensorflow-is-not-importing-on-jupyter-notebook\n",
    "\n",
    "https://stackoverflow.com/questions/46568913/tensorflow-import-error-no-module-named-tensorflow\n",
    "\n",
    "#lastly \n",
    "\n",
    "https://medium.com/@GeneAshis/tensorflow-part-1-getting-started-with-tensorflow-import-tensorflow-as-tf-29008f7f649a\"\"\"\n"
   ]
  },
  {
   "cell_type": "markdown",
   "metadata": {},
   "source": [
    "  File \"C:\\ProgramData\\Anaconda3\\lib\\site-packages\\ipykernel_launcher.py\", line 15, in <module>\n",
    "    from ipykernel import kernelapp as app\n",
    "  File \"C:\\ProgramData\\Anaconda3\\lib\\site-packages\\ipykernel\\__init__.py\", line 2, in <module>\n",
    "    from .connect import *\n",
    "  File \"C:\\ProgramData\\Anaconda3\\lib\\site-packages\\ipykernel\\connect.py\", line 18, in <module>\n",
    "    import jupyter_client\n",
    "  File \"C:\\ProgramData\\Anaconda3\\lib\\site-packages\\jupyter_client\\__init__.py\", line 4, in <module>\n",
    "    from .connect import *\n",
    "  File \"C:\\ProgramData\\Anaconda3\\lib\\site-packages\\jupyter_client\\connect.py\", line 21, in <module>\n",
    "    import zmq\n",
    "  File \"C:\\ProgramData\\Anaconda3\\lib\\site-packages\\zmq\\__init__.py\", line 47, in <module>\n",
    "    from zmq import backend\n",
    "  File \"C:\\ProgramData\\Anaconda3\\lib\\site-packages\\zmq\\backend\\__init__.py\", line 40, in <module>\n",
    "    reraise(*exc_info)\n",
    "  File \"C:\\ProgramData\\Anaconda3\\lib\\site-packages\\zmq\\utils\\sixcerpt.py\", line 34, in reraise\n",
    "    raise value\n",
    "  File \"C:\\ProgramData\\Anaconda3\\lib\\site-packages\\zmq\\backend\\__init__.py\", line 27, in <module>\n",
    "    _ns = select_backend(first)\n",
    "  File \"C:\\ProgramData\\Anaconda3\\lib\\site-packages\\zmq\\backend\\select.py\", line 28, in select_backend\n",
    "    mod = __import__(name, fromlist=public_api)\n",
    "  File \"C:\\ProgramData\\Anaconda3\\lib\\site-packages\\zmq\\backend\\cython\\__init__.py\", line 6, in <module>\n",
    "    from . import (constants, error, message, context,\n",
    "ImportError: DLL load failed while importing error: The specified module could not be found.\n",
    "[W 23:34:29.974 NotebookApp] KernelRestarter: restart failed\n",
    "[W 23:34:35.612 NotebookApp] Kernel 6ec7b9d5-aab6-4fb9-8be1-c0920f8e9467 died, removing from map.\n",
    "                   "
   ]
  },
  {
   "cell_type": "code",
   "execution_count": null,
   "metadata": {},
   "outputs": [],
   "source": []
  },
  {
   "cell_type": "code",
   "execution_count": 1,
   "metadata": {},
   "outputs": [],
   "source": [
    "## Our import\n",
    "import tensorflow as tf\n",
    "from tensorflow.keras.datasets import fashion_mnist\n",
    "from tensorflow.keras.datasets import mnist\n",
    "from tensorflow.keras.models import Sequential\n",
    "from tensorflow.keras.layers import Dense\n",
    "from tensorflow.keras.utils import to_categorical\n",
    "\n",
    "import numpy as np\n",
    "import pandas as pd\n",
    "import matplotlib.pyplot as plt\n",
    "%matplotlib inline\n"
   ]
  },
  {
   "cell_type": "markdown",
   "metadata": {},
   "source": [
    "---\n",
    "## Part 1. Adding notebook to your turn-in repository\n",
    "\n",
    "Like you did for Homework 3, you're going to add it to the CMSE202 repository you created in class so that you can track your progress on the assignment and preserve the final version that you turn in. In order to do this you need to:\n",
    "\n",
    "* Navigate to your /CMSE202/repos repository and create a new directory called hw-05.\n",
    "* Move this notebook into that new directory in your repository, then add it and commit it to your repository.\n",
    "   * Finally, to test that everything is working, \"git push\" the file so that it ends up in your GitHub repository.\n",
    "\n",
    "Important: Make sure you've added your TA as a collaborators to your respository with \"Read\" access so that we can see your assignment. (*If you did this for Homework 3, you do not need to do it again*)\n",
    "\n",
    "* Section 001: tuethan\n",
    "* Section 002: Luis-Polanco\n",
    "* Section 003: DavidRimel\n",
    "\n",
    "Also important: Make sure that the version of this notebook that you are working on is the same one that you just added to your repository! If you are working on a different copy of the notebook, none of your changes will be tracked.\n",
    "\n",
    "If everything went as intended, the file should now show up on your GitHub account CMSE202 repository under the hw-04 directory that you just created. Periodically, you'll be asked to commit your changes to the repository and push them to the remote GitHub location. Of course, you can always commit your changes more often than that, if you wish. It can be good to get into a habit of committing your changes any time you make a significant modification, or when you stop working on the project for a bit."
   ]
  },
  {
   "cell_type": "markdown",
   "metadata": {},
   "source": [
    "## Part 2: Classifying MNIST data (6 points)\n",
    "\n",
    "\n",
    "We will now walk through a concrete example of a neural network, which makes use of  Keras to learn to classify hand-written digits.\n",
    "\n",
    "The problem we are trying to solve here is to classify grayscale images of handwritten digits (28 pixels by 28 pixels), into their 10 \n",
    "categories (0 to 9). The dataset we will use is the MNIST dataset, a classic dataset in the machine learning community, which has been \n",
    "around for almost as long as the field itself and has been very intensively studied. It's a set of 60,000 training images, plus 10,000 test \n",
    "images, assembled by the National Institute of Standards and Technology (the NIST in MNIST) in the 1980s. You can think of \"solving\" MNIST \n",
    "as the \"Hello World\" of deep learning -- it's what you do to verify that your algorithms are working as expected. As you become a machine \n",
    "learning practitioner, you will see MNIST come up over and over again, in scientific papers, blog posts, and so on.\n",
    "\n",
    "The MNIST dataset comes pre-loaded in Keras, in the form of a set of four Numpy arrays:\n",
    "\n"
   ]
  },
  {
   "cell_type": "code",
   "execution_count": 2,
   "metadata": {},
   "outputs": [
    {
     "name": "stdout",
     "output_type": "stream",
     "text": [
      "Downloading data from https://storage.googleapis.com/tensorflow/tf-keras-datasets/mnist.npz\n",
      "11493376/11490434 [==============================] - 3s 0us/step\n"
     ]
    }
   ],
   "source": [
    "(train_images, train_labels), (test_images, test_labels)=mnist.load_data()"
   ]
  },
  {
   "cell_type": "markdown",
   "metadata": {},
   "source": [
    "`train_images` and `train_labels` form the \"training set\", the data that the model will learn from. The model will then be tested on the \n",
    "\"test set\", `test_images` and `test_labels`. Our images are encoded as Numpy arrays, and the labels are simply an array of digits, ranging \n",
    "from 0 to 9. There is a one-to-one correspondence between the images and the labels.\n",
    "\n",
    "Let's have a look at the training data:"
   ]
  },
  {
   "cell_type": "code",
   "execution_count": 3,
   "metadata": {},
   "outputs": [
    {
     "data": {
      "text/plain": [
       "(60000, 28, 28)"
      ]
     },
     "execution_count": 3,
     "metadata": {},
     "output_type": "execute_result"
    }
   ],
   "source": [
    "train_images.shape\n"
   ]
  },
  {
   "cell_type": "code",
   "execution_count": 4,
   "metadata": {
    "scrolled": true
   },
   "outputs": [
    {
     "data": {
      "text/plain": [
       "60000"
      ]
     },
     "execution_count": 4,
     "metadata": {},
     "output_type": "execute_result"
    }
   ],
   "source": [
    "len(train_labels)"
   ]
  },
  {
   "cell_type": "code",
   "execution_count": 5,
   "metadata": {},
   "outputs": [
    {
     "data": {
      "text/plain": [
       "array([5, 0, 4, ..., 5, 6, 8], dtype=uint8)"
      ]
     },
     "execution_count": 5,
     "metadata": {},
     "output_type": "execute_result"
    }
   ],
   "source": [
    "train_labels"
   ]
  },
  {
   "cell_type": "markdown",
   "metadata": {},
   "source": [
    "Let's have a look at the test data:"
   ]
  },
  {
   "cell_type": "code",
   "execution_count": 6,
   "metadata": {},
   "outputs": [
    {
     "data": {
      "text/plain": [
       "(10000, 28, 28)"
      ]
     },
     "execution_count": 6,
     "metadata": {},
     "output_type": "execute_result"
    }
   ],
   "source": [
    "test_images.shape"
   ]
  },
  {
   "cell_type": "code",
   "execution_count": 7,
   "metadata": {},
   "outputs": [
    {
     "data": {
      "text/plain": [
       "10000"
      ]
     },
     "execution_count": 7,
     "metadata": {},
     "output_type": "execute_result"
    }
   ],
   "source": [
    "len(test_labels)"
   ]
  },
  {
   "cell_type": "code",
   "execution_count": 8,
   "metadata": {},
   "outputs": [
    {
     "data": {
      "text/plain": [
       "array([7, 2, 1, ..., 4, 5, 6], dtype=uint8)"
      ]
     },
     "execution_count": 8,
     "metadata": {},
     "output_type": "execute_result"
    }
   ],
   "source": [
    "test_labels"
   ]
  },
  {
   "cell_type": "markdown",
   "metadata": {},
   "source": [
    "**Question 2.1 (1 points)** What is the size of the training and testing dataset for MNIST, respectively?"
   ]
  },
  {
   "cell_type": "markdown",
   "metadata": {},
   "source": [
    "<font size=8 color=\"#009600\">&#9998;</font> 60000 and 10000 respectively"
   ]
  },
  {
   "cell_type": "markdown",
   "metadata": {},
   "source": [
    "**Question 2.2 (2 points)** Make a histogram for the training label. Is this dataset balanced?"
   ]
  },
  {
   "cell_type": "code",
   "execution_count": 9,
   "metadata": {},
   "outputs": [
    {
     "data": {
      "text/plain": [
       "(array([5923., 6742., 5958., 6131., 5842., 5421., 5918., 6265., 5851.,\n",
       "        5949.]),\n",
       " array([0. , 0.9, 1.8, 2.7, 3.6, 4.5, 5.4, 6.3, 7.2, 8.1, 9. ]),\n",
       " <a list of 10 Patch objects>)"
      ]
     },
     "execution_count": 9,
     "metadata": {},
     "output_type": "execute_result"
    },
    {
     "data": {
      "image/png": "[encoded data removed]",
      "text/plain": [
       "<Figure size 432x288 with 1 Axes>"
      ]
     },
     "metadata": {
      "needs_background": "light"
     },
     "output_type": "display_data"
    }
   ],
   "source": [
    "### Put your code here ###\n",
    "plt.hist(train_labels)"
   ]
  },
  {
   "cell_type": "markdown",
   "metadata": {},
   "source": [
    "We can also take a look at the individual images."
   ]
  },
  {
   "cell_type": "code",
   "execution_count": 10,
   "metadata": {},
   "outputs": [
    {
     "data": {
      "text/plain": [
       "1"
      ]
     },
     "execution_count": 10,
     "metadata": {},
     "output_type": "execute_result"
    },
    {
     "data": {
      "image/png": "[encoded data removed]",
      "text/plain": [
       "<Figure size 432x288 with 1 Axes>"
      ]
     },
     "metadata": {
      "needs_background": "light"
     },
     "output_type": "display_data"
    }
   ],
   "source": [
    "digit = train_images[6]\n",
    "plt.imshow(digit, cmap=plt.cm.binary)\n",
    "train_labels[6]"
   ]
  },
  {
   "cell_type": "markdown",
   "metadata": {},
   "source": [
    "\n",
    "Before training, we will preprocess our data by reshaping it into the shape that the network expects, and scaling it so that all values are in \n",
    "the `[0, 1]` interval. Previously, our training images for instance were stored in an array of shape `(60000, 28, 28)` of type `uint8` with \n",
    "values in the `[0, 255]` interval. We transform it into a `float32` array of shape `(60000, 28 * 28)` with values between 0 and 1."
   ]
  },
  {
   "cell_type": "code",
   "execution_count": 11,
   "metadata": {},
   "outputs": [],
   "source": [
    "train_images = train_images.reshape(train_images.shape[0],-1)/255.0\n",
    "test_images = test_images.reshape(test_images.shape[0],-1)/255.0"
   ]
  },
  {
   "cell_type": "markdown",
   "metadata": {},
   "source": [
    "We also need to categorically encode the labels."
   ]
  },
  {
   "cell_type": "code",
   "execution_count": 12,
   "metadata": {},
   "outputs": [],
   "source": [
    "train_labels = to_categorical(train_labels)\n",
    "test_labels = to_categorical(test_labels)"
   ]
  },
  {
   "cell_type": "markdown",
   "metadata": {},
   "source": [
    "Let’s start our neural network models.\n",
    "\n",
    "\n",
    "\n",
    "<img src=\"https://miro.medium.com/max/1400/1*K0D3JOZJUTxX4Q-9CpiALw.jpeg\" width= 800><p style=\"text-align: right;\">\n",
    "\n"
   ]
  },
  {
   "cell_type": "markdown",
   "metadata": {},
   "source": [
    "Our workflow will be as follow: first we will present our neural network with the training data, `train_images` and `train_labels`. The \n",
    "network will then learn to associate images and labels. Finally, we will ask the network to produce predictions for `test_images`, and we \n",
    "will verify if these predictions match the labels from `test_labels`.\n",
    "\n",
    "Let's build our network.\n",
    "\n"
   ]
  },
  {
   "cell_type": "code",
   "execution_count": 13,
   "metadata": {},
   "outputs": [],
   "source": [
    "network = Sequential()\n",
    "network.add(Dense(10, input_dim=784, activation='relu'))\n",
    "network.add(Dense(10, activation='softmax'))\n",
    "network.compile(optimizer='rmsprop',\n",
    "                loss='categorical_crossentropy',\n",
    "                metrics=['accuracy'])"
   ]
  },
  {
   "cell_type": "markdown",
   "metadata": {},
   "source": [
    "The Sequential model is the easiest model Keras has. The first line of `model.add` method is adding your hidden layer with 10 cells, coming from 784 input cells.\n",
    "\n",
    "The second add method is adding your output layer to the network. This has 10 cells.\n",
    "\n",
    "The Relu and Softmax activation options are non-linear. Being able to use non-linear data makes Neural Network particularly useful. Generally, neural networks can map any data distribution at any level of complexity.\n",
    "You don’t have to know what Relu and Softmax are.  You just need to follow these tips:\n",
    "1. Use Relu whenever possible, on every hidden layer.\n",
    "2. Use Softmax on output layers with more than two categories to be predicted.\n",
    "3. Use Sigmoid on an output layer with two categories.\n",
    "\n",
    "After creating your model, call `compile` method to finish your model. It usually takes three parameters. Always use `categorical_crossentropy` for multi-categories, and `binary_crossentropy` for two categories. Use `adam` or `rmsprop` as the optimizer since both of them are pretty good. And you need accuracy as the `metric` to check your network performance."
   ]
  },
  {
   "cell_type": "markdown",
   "metadata": {},
   "source": [
    "We are now ready to train our network, which in Keras is done via a call to the `fit` method of the network: \n",
    "we \"fit\" the model to its training data.  We will use 10% of the training data as the validation data, hence validation_split was set to 0.1."
   ]
  },
  {
   "cell_type": "code",
   "execution_count": 14,
   "metadata": {},
   "outputs": [
    {
     "name": "stdout",
     "output_type": "stream",
     "text": [
      "Epoch 1/20\n",
      "   1/1688 [..............................] - ETA: 0s - loss: 2.3855 - accuracy: 0.0625WARNING:tensorflow:Callbacks method `on_train_batch_end` is slow compared to the batch time (batch time: 0.0000s vs `on_train_batch_end` time: 0.0010s). Check your callbacks.\n",
      "1688/1688 [==============================] - 1s 510us/step - loss: 0.5387 - accuracy: 0.8488 - val_loss: 0.2771 - val_accuracy: 0.9235\n",
      "Epoch 2/20\n",
      "1688/1688 [==============================] - 1s 438us/step - loss: 0.3163 - accuracy: 0.9101 - val_loss: 0.2322 - val_accuracy: 0.9343\n",
      "Epoch 3/20\n",
      "1688/1688 [==============================] - 1s 446us/step - loss: 0.2847 - accuracy: 0.9205 - val_loss: 0.2198 - val_accuracy: 0.9395\n",
      "Epoch 4/20\n",
      "1688/1688 [==============================] - 1s 477us/step - loss: 0.2711 - accuracy: 0.9240 - val_loss: 0.2157 - val_accuracy: 0.9428\n",
      "Epoch 5/20\n",
      "1688/1688 [==============================] - 1s 438us/step - loss: 0.2613 - accuracy: 0.9274 - val_loss: 0.2096 - val_accuracy: 0.9400\n",
      "Epoch 6/20\n",
      "1688/1688 [==============================] - 1s 448us/step - loss: 0.2535 - accuracy: 0.9297 - val_loss: 0.2096 - val_accuracy: 0.9413\n",
      "Epoch 7/20\n",
      "1688/1688 [==============================] - 1s 441us/step - loss: 0.2473 - accuracy: 0.9317 - val_loss: 0.2085 - val_accuracy: 0.9435\n",
      "Epoch 8/20\n",
      "1688/1688 [==============================] - 1s 476us/step - loss: 0.2425 - accuracy: 0.9327 - val_loss: 0.2055 - val_accuracy: 0.9417\n",
      "Epoch 9/20\n",
      "1688/1688 [==============================] - 1s 475us/step - loss: 0.2381 - accuracy: 0.9343 - val_loss: 0.2020 - val_accuracy: 0.9455\n",
      "Epoch 10/20\n",
      "1688/1688 [==============================] - 1s 486us/step - loss: 0.2341 - accuracy: 0.9358 - val_loss: 0.2046 - val_accuracy: 0.9423\n",
      "Epoch 11/20\n",
      "1688/1688 [==============================] - 1s 452us/step - loss: 0.2310 - accuracy: 0.9370 - val_loss: 0.2024 - val_accuracy: 0.9460\n",
      "Epoch 12/20\n",
      "1688/1688 [==============================] - 1s 464us/step - loss: 0.2282 - accuracy: 0.9376 - val_loss: 0.2024 - val_accuracy: 0.9457\n",
      "Epoch 13/20\n",
      "1688/1688 [==============================] - 1s 438us/step - loss: 0.2249 - accuracy: 0.9385 - val_loss: 0.2019 - val_accuracy: 0.9457\n",
      "Epoch 14/20\n",
      "1688/1688 [==============================] - 1s 441us/step - loss: 0.2230 - accuracy: 0.9396 - val_loss: 0.1995 - val_accuracy: 0.9463\n",
      "Epoch 15/20\n",
      "1688/1688 [==============================] - 1s 450us/step - loss: 0.2202 - accuracy: 0.9405 - val_loss: 0.2067 - val_accuracy: 0.9440\n",
      "Epoch 16/20\n",
      "1688/1688 [==============================] - 1s 473us/step - loss: 0.2191 - accuracy: 0.9406 - val_loss: 0.2024 - val_accuracy: 0.9442\n",
      "Epoch 17/20\n",
      "1688/1688 [==============================] - 1s 444us/step - loss: 0.2177 - accuracy: 0.9403 - val_loss: 0.2034 - val_accuracy: 0.9445\n",
      "Epoch 18/20\n",
      "1688/1688 [==============================] - 1s 449us/step - loss: 0.2165 - accuracy: 0.9411 - val_loss: 0.1956 - val_accuracy: 0.9492\n",
      "Epoch 19/20\n",
      "1688/1688 [==============================] - 1s 464us/step - loss: 0.2150 - accuracy: 0.9411 - val_loss: 0.2044 - val_accuracy: 0.9427\n",
      "Epoch 20/20\n",
      "1688/1688 [==============================] - 1s 459us/step - loss: 0.2137 - accuracy: 0.9416 - val_loss: 0.2003 - val_accuracy: 0.9448\n"
     ]
    }
   ],
   "source": [
    "history=network.fit(train_images, train_labels, epochs=20,  validation_split=0.1)"
   ]
  },
  {
   "cell_type": "markdown",
   "metadata": {},
   "source": [
    "Four quantities are being displayed during training: the \"loss\" of the network over the training and validation data, and the accuracy of the network over \n",
    "the training and validation data.\n",
    "\n",
    "`epoch` is the number of training loops we will do. One epoch will expose all of our training data once to the network. More epochs means the network will know better about our data.\n",
    "\n",
    "We can plot a history of training and validation loss and accuracy."
   ]
  },
  {
   "cell_type": "code",
   "execution_count": 15,
   "metadata": {},
   "outputs": [
    {
     "data": {
      "image/png": "[encoded data removed]",
      "text/plain": [
       "<Figure size 432x288 with 1 Axes>"
      ]
     },
     "metadata": {
      "needs_background": "light"
     },
     "output_type": "display_data"
    },
    {
     "data": {
      "image/png": "[encoded data removed]",
      "text/plain": [
       "<Figure size 432x288 with 1 Axes>"
      ]
     },
     "metadata": {
      "needs_background": "light"
     },
     "output_type": "display_data"
    }
   ],
   "source": [
    "plt.clf()   # clear figure\n",
    "\n",
    "loss = history.history['loss']\n",
    "val_loss = history.history['val_loss']\n",
    "\n",
    "epochs = range(1, len(loss) + 1)\n",
    "\n",
    "plt.plot(epochs, loss, 'bo', label='Training loss')\n",
    "plt.plot(epochs, val_loss, 'b', label='Validation loss')\n",
    "plt.title('Training and validation loss')\n",
    "plt.xlabel('Epochs')\n",
    "plt.ylabel('Loss')\n",
    "plt.legend()\n",
    "\n",
    "plt.show()\n",
    "\n",
    "acc = history.history['accuracy']\n",
    "val_acc = history.history['val_accuracy']\n",
    "epochs=range(1, len(acc)+1)\n",
    "\n",
    "plt.plot(epochs, acc, 'bo', label='Training acc')\n",
    "plt.plot(epochs, val_acc, 'b', label='Validation acc')\n",
    "plt.title('Training and validation accuracy')\n",
    "plt.xlabel('Epochs')\n",
    "plt.ylabel('Accuracy')\n",
    "plt.legend()\n",
    "\n",
    "plt.show()"
   ]
  },
  {
   "cell_type": "markdown",
   "metadata": {},
   "source": [
    "\n",
    "The dots are the training loss and accuracy, while the solid lines are the validation loss and accuracy. *Note that your own results may vary \n",
    "slightly due to a different random initialization of your network.*\n",
    "\n",
    "As you can see, the training loss decreases with every epoch and the training accuracy increases with every epoch. That's what you would \n",
    "expect when running gradient descent optimization -- the quantity you are trying to minimize should get lower with every iteration. But that \n",
    "isn't the case for the validation loss and accuracy: they seem to peak at the eleventh epoch.  What you are seeing is **overfitting**: after the 11th epoch, we are over-optimizing on the training data, and we \n",
    "ended up learning representations that are specific to the training data and do not generalize to data outside of the training set.\n",
    "\n",
    "In this case, to prevent overfitting, we could simply stop training after 10 epochs.\n",
    "\n",
    "**Question 2.3 (2 points)**  Let's train a new network from scratch for 10 epochs. "
   ]
  },
  {
   "cell_type": "code",
   "execution_count": 16,
   "metadata": {},
   "outputs": [],
   "source": [
    "### Put your code here ###\n"
   ]
  },
  {
   "cell_type": "code",
   "execution_count": 17,
   "metadata": {},
   "outputs": [
    {
     "name": "stdout",
     "output_type": "stream",
     "text": [
      "Epoch 1/10\n",
      "1637/1688 [============================>.] - ETA: 0s - loss: 0.5902 - accuracy: 0.8282WARNING:tensorflow:Callbacks method `on_test_batch_end` is slow compared to the batch time (batch time: 0.0000s vs `on_test_batch_end` time: 0.0010s). Check your callbacks.\n",
      "1688/1688 [==============================] - 1s 501us/step - loss: 0.5827 - accuracy: 0.8303 - val_loss: 0.2682 - val_accuracy: 0.9288\n",
      "Epoch 2/10\n",
      "1688/1688 [==============================] - 1s 461us/step - loss: 0.3124 - accuracy: 0.9116 - val_loss: 0.2383 - val_accuracy: 0.9347\n",
      "Epoch 3/10\n",
      "1688/1688 [==============================] - 1s 467us/step - loss: 0.2880 - accuracy: 0.9194 - val_loss: 0.2294 - val_accuracy: 0.9333\n",
      "Epoch 4/10\n",
      "1688/1688 [==============================] - 1s 447us/step - loss: 0.2756 - accuracy: 0.9230 - val_loss: 0.2290 - val_accuracy: 0.9362\n",
      "Epoch 5/10\n",
      "1688/1688 [==============================] - 1s 470us/step - loss: 0.2684 - accuracy: 0.9248 - val_loss: 0.2197 - val_accuracy: 0.9383\n",
      "Epoch 6/10\n",
      "1688/1688 [==============================] - 1s 463us/step - loss: 0.2609 - accuracy: 0.9268 - val_loss: 0.2130 - val_accuracy: 0.9405\n",
      "Epoch 7/10\n",
      "1688/1688 [==============================] - 1s 457us/step - loss: 0.2560 - accuracy: 0.9286 - val_loss: 0.2192 - val_accuracy: 0.9388\n",
      "Epoch 8/10\n",
      "1688/1688 [==============================] - 1s 441us/step - loss: 0.2499 - accuracy: 0.9295 - val_loss: 0.2110 - val_accuracy: 0.9412\n",
      "Epoch 9/10\n",
      "1688/1688 [==============================] - 1s 477us/step - loss: 0.2457 - accuracy: 0.9315 - val_loss: 0.2134 - val_accuracy: 0.9408\n",
      "Epoch 10/10\n",
      "1688/1688 [==============================] - 1s 482us/step - loss: 0.2418 - accuracy: 0.9327 - val_loss: 0.2120 - val_accuracy: 0.9393\n"
     ]
    }
   ],
   "source": [
    "### Answer ###\n",
    "\n",
    "network = Sequential()\n",
    "network.add(Dense(10, input_dim=784, activation='relu'))\n",
    "network.add(Dense(10, activation='softmax'))\n",
    "network.compile(optimizer='rmsprop',\n",
    "                loss='categorical_crossentropy',\n",
    "                metrics=['accuracy'])\n",
    "history=network.fit(train_images, train_labels, epochs=10,  validation_split=0.1)"
   ]
  },
  {
   "cell_type": "markdown",
   "metadata": {},
   "source": [
    "We can now evaluate the result on our test data."
   ]
  },
  {
   "cell_type": "code",
   "execution_count": 18,
   "metadata": {},
   "outputs": [
    {
     "name": "stdout",
     "output_type": "stream",
     "text": [
      "313/313 [==============================] - 0s 322us/step - loss: 0.2567 - accuracy: 0.9318\n",
      "test_acc: 0.9318000078201294\n"
     ]
    }
   ],
   "source": [
    "test_loss, test_acc = network.evaluate(test_images, test_labels)\n",
    "print('test_acc:', test_acc)"
   ]
  },
  {
   "cell_type": "markdown",
   "metadata": {},
   "source": [
    "**Question 2.4 (1 points)**  Run the code above. What is the testing accuracy?"
   ]
  },
  {
   "cell_type": "markdown",
   "metadata": {},
   "source": [
    "<font size=8 color=\"#009600\">&#9998;</font> 93.18% accurate."
   ]
  },
  {
   "cell_type": "markdown",
   "metadata": {},
   "source": [
    "\n",
    "This concludes our very first example -- you just saw how we could build and a train a neural network to classify handwritten digits, in \n",
    "less than 20 lines of Python code!"
   ]
  },
  {
   "cell_type": "markdown",
   "metadata": {},
   "source": [
    "## Part 3: Classifying Fashion-MNIST data (19 points)\n",
    "\n",
    "\n",
    "We will now work on another dataset called fashion MNIST. Fashion MNIST is a dataset of ten categories of clothing and accessories, in grayscales. \n",
    "\n",
    "\n",
    "<img src=\"https://miro.medium.com/max/1400/1*9yRVzjQpH7LW8QWGbKFKww.png\" width= 800><p style=\"text-align: right;\">"
   ]
  },
  {
   "cell_type": "markdown",
   "metadata": {},
   "source": [
    "**Question 3.1 (2 points)**   Load the Fashion-MNIST dataset. *Hint: Keras has this dataset preloaded. Look at the import at the beginning of this notebook*"
   ]
  },
  {
   "cell_type": "code",
   "execution_count": 21,
   "metadata": {},
   "outputs": [
    {
     "name": "stdout",
     "output_type": "stream",
     "text": [
      "Downloading data from https://storage.googleapis.com/tensorflow/tf-keras-datasets/train-labels-idx1-ubyte.gz\n",
      "32768/29515 [=================================] - 0s 1us/step\n",
      "Downloading data from https://storage.googleapis.com/tensorflow/tf-keras-datasets/train-images-idx3-ubyte.gz\n",
      "26427392/26421880 [==============================] - 7s 0us/step\n",
      "Downloading data from https://storage.googleapis.com/tensorflow/tf-keras-datasets/t10k-labels-idx1-ubyte.gz\n",
      "8192/5148 [===============================================] - 0s 0us/step\n",
      "Downloading data from https://storage.googleapis.com/tensorflow/tf-keras-datasets/t10k-images-idx3-ubyte.gz\n",
      "4423680/4422102 [==============================] - 1s 0us/step\n"
     ]
    }
   ],
   "source": [
    "### Put your code here ###\n",
    "\n",
    "fashion_mnist = tf.keras.datasets.fashion_mnist\n",
    "\n",
    "(train_images, train_labels), (test_images, test_labels) = fashion_mnist.load_data()"
   ]
  },
  {
   "cell_type": "markdown",
   "metadata": {},
   "source": [
    "**Question 3.2 (3 points)** Explore the data. Find the size of the training and testing dataset. How many categories are in the labels?"
   ]
  },
  {
   "cell_type": "code",
   "execution_count": 24,
   "metadata": {},
   "outputs": [
    {
     "name": "stdout",
     "output_type": "stream",
     "text": [
      "train: (60000, 28, 28)\n",
      "test:  (10000, 28, 28)\n",
      "28 categories each\n"
     ]
    }
   ],
   "source": [
    "### Put your code here ###\n",
    "print(\"train:\", train_images.shape)\n",
    "\n",
    "print(\"test: \", test_images.shape)\n",
    "\n",
    "print(\"28 categories each\")"
   ]
  },
  {
   "cell_type": "markdown",
   "metadata": {},
   "source": [
    "**Question 3.3 (2 points)** Plot the first couple of images in the training set and their labels. What do you observe?"
   ]
  },
  {
   "cell_type": "code",
   "execution_count": 34,
   "metadata": {},
   "outputs": [
    {
     "data": {
      "image/png": "[encoded data removed]",
      "text/plain": [
       "<Figure size 432x288 with 4 Axes>"
      ]
     },
     "metadata": {
      "needs_background": "light"
     },
     "output_type": "display_data"
    }
   ],
   "source": [
    "### Put your code here ###\n",
    "plt.figure()\n",
    "plt.subplot(2,1,1)\n",
    "\n",
    "plt.imshow(train_images[0])\n",
    "plt.colorbar()\n",
    "plt.subplot(2,1,2)\n",
    "plt.imshow(train_images[1])\n",
    "plt.colorbar()\n",
    "plt.grid(False)\n",
    "plt.show()"
   ]
  },
  {
   "cell_type": "markdown",
   "metadata": {},
   "source": [
    "**Question 3.4 (2 points)** Now following the previous example of MNIST, reshape the dataset and categorically encode the labels."
   ]
  },
  {
   "cell_type": "code",
   "execution_count": 35,
   "metadata": {},
   "outputs": [],
   "source": [
    "### Put your code here ###\n",
    "train_images = train_images.reshape(train_images.shape[0],-1)/255.0\n",
    "test_images = test_images.reshape(test_images.shape[0],-1)/255.0"
   ]
  },
  {
   "cell_type": "markdown",
   "metadata": {},
   "source": [
    "**Question 3.5 (5 points)** Build the network. Use the **same** network architecture and parameters as the MNIST example, and train with 10 epochs. What is the accuracy you see for this dataset? Do you observe overfitting during this training?"
   ]
  },
  {
   "cell_type": "code",
   "execution_count": 36,
   "metadata": {},
   "outputs": [],
   "source": [
    "### Put your code here ###\n",
    "train_labels = to_categorical(train_labels)\n",
    "test_labels = to_categorical(test_labels)\n",
    "network = Sequential()\n",
    "network.add(Dense(10, input_dim=784, activation='relu'))\n",
    "network.add(Dense(10, activation='softmax'))\n",
    "network.compile(optimizer='rmsprop',\n",
    "                loss='categorical_crossentropy',\n",
    "                metrics=['accuracy'])"
   ]
  },
  {
   "cell_type": "code",
   "execution_count": 37,
   "metadata": {},
   "outputs": [
    {
     "name": "stdout",
     "output_type": "stream",
     "text": [
      "Epoch 1/20\n",
      "1688/1688 [==============================] - 1s 503us/step - loss: 0.7249 - accuracy: 0.7458 - val_loss: 0.5024 - val_accuracy: 0.8262\n",
      "Epoch 2/20\n",
      "1688/1688 [==============================] - 1s 459us/step - loss: 0.4799 - accuracy: 0.8335 - val_loss: 0.4533 - val_accuracy: 0.8387\n",
      "Epoch 3/20\n",
      "1688/1688 [==============================] - 1s 448us/step - loss: 0.4414 - accuracy: 0.8463 - val_loss: 0.4267 - val_accuracy: 0.8512\n",
      "Epoch 4/20\n",
      "1688/1688 [==============================] - 1s 445us/step - loss: 0.4222 - accuracy: 0.8527 - val_loss: 0.4689 - val_accuracy: 0.8338\n",
      "Epoch 5/20\n",
      "1688/1688 [==============================] - 1s 458us/step - loss: 0.4100 - accuracy: 0.8569 - val_loss: 0.4170 - val_accuracy: 0.8492\n",
      "Epoch 6/20\n",
      "1688/1688 [==============================] - 1s 447us/step - loss: 0.4010 - accuracy: 0.8578 - val_loss: 0.4103 - val_accuracy: 0.8503\n",
      "Epoch 7/20\n",
      "1688/1688 [==============================] - 1s 470us/step - loss: 0.3937 - accuracy: 0.8615 - val_loss: 0.4142 - val_accuracy: 0.8537\n",
      "Epoch 8/20\n",
      "1688/1688 [==============================] - 1s 445us/step - loss: 0.3890 - accuracy: 0.8622 - val_loss: 0.4161 - val_accuracy: 0.8540\n",
      "Epoch 9/20\n",
      "1688/1688 [==============================] - 1s 447us/step - loss: 0.3837 - accuracy: 0.8647 - val_loss: 0.4559 - val_accuracy: 0.8335\n",
      "Epoch 10/20\n",
      "1688/1688 [==============================] - 1s 464us/step - loss: 0.3793 - accuracy: 0.8659 - val_loss: 0.4375 - val_accuracy: 0.8507\n",
      "Epoch 11/20\n",
      "1688/1688 [==============================] - 1s 465us/step - loss: 0.3760 - accuracy: 0.8668 - val_loss: 0.4290 - val_accuracy: 0.8532\n",
      "Epoch 12/20\n",
      "1688/1688 [==============================] - 1s 452us/step - loss: 0.3740 - accuracy: 0.8691 - val_loss: 0.4012 - val_accuracy: 0.8612\n",
      "Epoch 13/20\n",
      "1688/1688 [==============================] - 1s 448us/step - loss: 0.3700 - accuracy: 0.8698 - val_loss: 0.4177 - val_accuracy: 0.8573\n",
      "Epoch 14/20\n",
      "1688/1688 [==============================] - 1s 450us/step - loss: 0.3686 - accuracy: 0.8701 - val_loss: 0.4109 - val_accuracy: 0.8568\n",
      "Epoch 15/20\n",
      "1688/1688 [==============================] - 1s 451us/step - loss: 0.3669 - accuracy: 0.8701 - val_loss: 0.4369 - val_accuracy: 0.8582\n",
      "Epoch 16/20\n",
      "1688/1688 [==============================] - 1s 451us/step - loss: 0.3644 - accuracy: 0.8707 - val_loss: 0.4330 - val_accuracy: 0.8540\n",
      "Epoch 17/20\n",
      "1688/1688 [==============================] - 1s 520us/step - loss: 0.3623 - accuracy: 0.8706 - val_loss: 0.4281 - val_accuracy: 0.8527\n",
      "Epoch 18/20\n",
      "1688/1688 [==============================] - 1s 516us/step - loss: 0.3620 - accuracy: 0.8719 - val_loss: 0.4185 - val_accuracy: 0.8607\n",
      "Epoch 19/20\n",
      "1688/1688 [==============================] - 1s 493us/step - loss: 0.3613 - accuracy: 0.8719 - val_loss: 0.4254 - val_accuracy: 0.8595\n",
      "Epoch 20/20\n",
      "1688/1688 [==============================] - 1s 495us/step - loss: 0.3589 - accuracy: 0.8729 - val_loss: 0.4043 - val_accuracy: 0.8660\n"
     ]
    }
   ],
   "source": [
    "history=network.fit(train_images, train_labels, epochs=20,  validation_split=0.1)"
   ]
  },
  {
   "cell_type": "code",
   "execution_count": 38,
   "metadata": {},
   "outputs": [
    {
     "data": {
      "image/png": "[encoded data removed]",
      "text/plain": [
       "<Figure size 432x288 with 1 Axes>"
      ]
     },
     "metadata": {
      "needs_background": "light"
     },
     "output_type": "display_data"
    },
    {
     "data": {
      "image/png": "[encoded data removed]",
      "text/plain": [
       "<Figure size 432x288 with 1 Axes>"
      ]
     },
     "metadata": {
      "needs_background": "light"
     },
     "output_type": "display_data"
    }
   ],
   "source": [
    "plt.clf()   # clear figure\n",
    "\n",
    "loss = history.history['loss']\n",
    "val_loss = history.history['val_loss']\n",
    "\n",
    "epochs = range(1, len(loss) + 1)\n",
    "\n",
    "plt.plot(epochs, loss, 'bo', label='Training loss')\n",
    "plt.plot(epochs, val_loss, 'b', label='Validation loss')\n",
    "plt.title('Training and validation loss')\n",
    "plt.xlabel('Epochs')\n",
    "plt.ylabel('Loss')\n",
    "plt.legend()\n",
    "\n",
    "plt.show()\n",
    "\n",
    "acc = history.history['accuracy']\n",
    "val_acc = history.history['val_accuracy']\n",
    "epochs=range(1, len(acc)+1)\n",
    "\n",
    "plt.plot(epochs, acc, 'bo', label='Training acc')\n",
    "plt.plot(epochs, val_acc, 'b', label='Validation acc')\n",
    "plt.title('Training and validation accuracy')\n",
    "plt.xlabel('Epochs')\n",
    "plt.ylabel('Accuracy')\n",
    "plt.legend()\n",
    "\n",
    "plt.show()"
   ]
  },
  {
   "cell_type": "code",
   "execution_count": 39,
   "metadata": {},
   "outputs": [
    {
     "name": "stdout",
     "output_type": "stream",
     "text": [
      "Epoch 1/10\n",
      "1688/1688 [==============================] - 1s 523us/step - loss: 0.6902 - accuracy: 0.7687 - val_loss: 0.4958 - val_accuracy: 0.8292\n",
      "Epoch 2/10\n",
      "1688/1688 [==============================] - 1s 508us/step - loss: 0.4908 - accuracy: 0.8304 - val_loss: 0.5104 - val_accuracy: 0.8238\n",
      "Epoch 3/10\n",
      "1688/1688 [==============================] - 1s 492us/step - loss: 0.4599 - accuracy: 0.8416 - val_loss: 0.4791 - val_accuracy: 0.8345\n",
      "Epoch 4/10\n",
      "1688/1688 [==============================] - 1s 477us/step - loss: 0.4442 - accuracy: 0.8468 - val_loss: 0.4641 - val_accuracy: 0.8398\n",
      "Epoch 5/10\n",
      "1688/1688 [==============================] - 1s 495us/step - loss: 0.4341 - accuracy: 0.8514 - val_loss: 0.4492 - val_accuracy: 0.8455\n",
      "Epoch 6/10\n",
      "1688/1688 [==============================] - 1s 495us/step - loss: 0.4257 - accuracy: 0.8529 - val_loss: 0.4353 - val_accuracy: 0.8512\n",
      "Epoch 7/10\n",
      "1688/1688 [==============================] - 1s 472us/step - loss: 0.4210 - accuracy: 0.8545 - val_loss: 0.4530 - val_accuracy: 0.8433\n",
      "Epoch 8/10\n",
      "1688/1688 [==============================] - 1s 453us/step - loss: 0.4155 - accuracy: 0.8578 - val_loss: 0.4452 - val_accuracy: 0.8462\n",
      "Epoch 9/10\n",
      "1688/1688 [==============================] - 1s 441us/step - loss: 0.4125 - accuracy: 0.8582 - val_loss: 0.5036 - val_accuracy: 0.8220\n",
      "Epoch 10/10\n",
      "1688/1688 [==============================] - 1s 477us/step - loss: 0.4089 - accuracy: 0.8586 - val_loss: 0.4330 - val_accuracy: 0.8535\n"
     ]
    }
   ],
   "source": [
    "### Answer ###\n",
    "\n",
    "network = Sequential()\n",
    "network.add(Dense(10, input_dim=784, activation='relu'))\n",
    "network.add(Dense(10, activation='softmax'))\n",
    "network.compile(optimizer='rmsprop',\n",
    "                loss='categorical_crossentropy',\n",
    "                metrics=['accuracy'])\n",
    "history=network.fit(train_images, train_labels, epochs=10,  validation_split=0.1)"
   ]
  },
  {
   "cell_type": "code",
   "execution_count": 40,
   "metadata": {},
   "outputs": [
    {
     "name": "stdout",
     "output_type": "stream",
     "text": [
      "313/313 [==============================] - 0s 331us/step - loss: 0.4662 - accuracy: 0.8421\n",
      "test_acc: 0.8421000242233276\n"
     ]
    }
   ],
   "source": [
    "test_loss, test_acc = network.evaluate(test_images, test_labels)\n",
    "print('test_acc:', test_acc)"
   ]
  },
  {
   "cell_type": "markdown",
   "metadata": {},
   "source": [
    "accuracy = 84% the data loss as we are trying to fit the data"
   ]
  },
  {
   "cell_type": "markdown",
   "metadata": {},
   "source": [
    "You should have got a decent accuracy out of this dataset too, but not as high as the accuracy from the MNIST dataset, because the images here are more complicated. Now to improve the accuracy, you can try to widen/deepend the feedforward neural network. You are encouraged to look at the previous example and search on the internet on how to do that. As long as you see some improvement, it will be fine.\n",
    "\n",
    "**Question 3.6 (5 points)** Try changing the network architecture (deepen/widen the network) to improve the accuracy. What changes did you make? What accuracy did you get this time?"
   ]
  },
  {
   "cell_type": "code",
   "execution_count": null,
   "metadata": {},
   "outputs": [],
   "source": []
  },
  {
   "cell_type": "code",
   "execution_count": 27,
   "metadata": {},
   "outputs": [],
   "source": [
    "### Put your code here ###\n"
   ]
  },
  {
   "cell_type": "markdown",
   "metadata": {},
   "source": [
    "Congratulations! You have learned about the basics of the Tensorflow package, which is a powerful tool for machine learning. There are tons of on-line resources about Tensorflow. You are encouraged to check them out when you have time."
   ]
  },
  {
   "cell_type": "markdown",
   "metadata": {},
   "source": [
    "---\n",
    "### Assignment wrap-up\n",
    "\n",
    "Please fill out the form that appears when you run the code below.  **You must completely fill this out in order to receive credit for the assignment!**"
   ]
  },
  {
   "cell_type": "code",
   "execution_count": 28,
   "metadata": {},
   "outputs": [
    {
     "data": {
      "text/html": [
       "\n",
       "<iframe \n",
       "\tsrc=\"https://docs.google.com/forms/d/e/1FAIpQLSf_RV7__hgMU1AEQXzWmKFZPMu_BmOppmTNA-rPkh3hQ40czA/viewform?usp=sf_link\" \n",
       "\twidth=\"800px\" \n",
       "\theight=\"600px\" \n",
       "\tframeborder=\"0\" \n",
       "\tmarginheight=\"0\" \n",
       "\tmarginwidth=\"0\">\n",
       "\tLoading...\n",
       "</iframe>\n"
      ],
      "text/plain": [
       "<IPython.core.display.HTML object>"
      ]
     },
     "execution_count": 28,
     "metadata": {},
     "output_type": "execute_result"
    }
   ],
   "source": [
    "from IPython.display import HTML\n",
    "HTML(\n",
    "\"\"\"\n",
    "<iframe \n",
    "\tsrc=\"https://docs.google.com/forms/d/e/1FAIpQLSf_RV7__hgMU1AEQXzWmKFZPMu_BmOppmTNA-rPkh3hQ40czA/viewform?usp=sf_link\" \n",
    "\twidth=\"800px\" \n",
    "\theight=\"600px\" \n",
    "\tframeborder=\"0\" \n",
    "\tmarginheight=\"0\" \n",
    "\tmarginwidth=\"0\">\n",
    "\tLoading...\n",
    "</iframe>\n",
    "\"\"\"\n",
    ")"
   ]
  },
  {
   "cell_type": "markdown",
   "metadata": {},
   "source": [
    "### Congratulations, you're done!\n",
    "\n",
    "Submit this assignment by uploading it to the course Desire2Learn web page.  Go to the \"Homework Assignments\" folder, find the dropbox link for Homework #5, and upload your notebook **and the script you wrote**."
   ]
  },
  {
   "cell_type": "code",
   "execution_count": null,
   "metadata": {},
   "outputs": [],
   "source": []
  }
 ],
 "metadata": {
  "kernelspec": {
   "display_name": "tensorflow_env.",
   "language": "python",
   "name": "tensorflow_env"
  },
  "language_info": {
   "codemirror_mode": {
    "name": "ipython",
    "version": 3
   },
   "file_extension": ".py",
   "mimetype": "text/x-python",
   "name": "python",
   "nbconvert_exporter": "python",
   "pygments_lexer": "ipython3",
   "version": "3.8.3"
  }
 },
 "nbformat": 4,
 "nbformat_minor": 2
}
